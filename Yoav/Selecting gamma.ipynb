{
 "cells": [
  {
   "cell_type": "code",
   "execution_count": 44,
   "id": "ac63546e",
   "metadata": {},
   "outputs": [
    {
     "name": "stdout",
     "output_type": "stream",
     "text": [
      "%pylab is deprecated, use %matplotlib inline and import the required libraries.\n",
      "Populating the interactive namespace from numpy and matplotlib\n"
     ]
    },
    {
     "name": "stderr",
     "output_type": "stream",
     "text": [
      "/Users/yoavfreund/miniforge3/lib/python3.9/site-packages/IPython/core/magics/pylab.py:162: UserWarning: pylab import has clobbered these variables: ['gamma', 'norm']\n",
      "`%matplotlib` prevents importing * from pylab and numpy\n",
      "  warn(\"pylab import has clobbered these variables: %s\"  % clobbered +\n"
     ]
    }
   ],
   "source": [
    "%pylab inline"
   ]
  },
  {
   "cell_type": "code",
   "execution_count": 45,
   "id": "efa2857a",
   "metadata": {},
   "outputs": [],
   "source": [
    "from scipy.stats import norm\n"
   ]
  },
  {
   "cell_type": "code",
   "execution_count": 76,
   "id": "d03f78f2",
   "metadata": {},
   "outputs": [],
   "source": [
    "def row_normalize(K):\n",
    "    return (K.T/(sum(K,axis=1))).T\n",
    "def col_normalize(K):\n",
    "    return (K/(sum(K,axis=0)))\n",
    "LV={}"
   ]
  },
  {
   "cell_type": "code",
   "execution_count": 77,
   "id": "219fa7e2",
   "metadata": {},
   "outputs": [],
   "source": [
    "n=1000 # vector size is n+2\n",
    "gamma=0.5 \n",
    "kernel_scale=0.05\n"
   ]
  },
  {
   "cell_type": "code",
   "execution_count": 78,
   "id": "e8632727",
   "metadata": {},
   "outputs": [],
   "source": [
    "def set_X_values(n,min=0,max=1):\n",
    "    X=arange(min,max+1e-10,(max-min)/(n-1))\n",
    "    if X.shape[0]>n:\n",
    "        X=X[:n]\n",
    "    return X"
   ]
  },
  {
   "cell_type": "code",
   "execution_count": 79,
   "id": "bd745ecd",
   "metadata": {
    "scrolled": true
   },
   "outputs": [
    {
     "data": {
      "text/plain": [
       "((1002, 1000), 0.5)"
      ]
     },
     "execution_count": 79,
     "metadata": {},
     "output_type": "execute_result"
    }
   ],
   "source": [
    "def set_matrix(n=100,gamma=1, kernel_scale=0.05):\n",
    "    x = np.linspace(norm.ppf(0.01),\n",
    "        norm.ppf(0.99), 2*n+2)\n",
    "    kernel = norm(scale=kernel_scale).pdf(x)\n",
    "\n",
    "    ## define matrix\n",
    "    K=np.zeros([n+2,n])\n",
    "    for i in range(n+1):\n",
    "        for j in range(n):\n",
    "            K[i,j]=kernel[int(i-j+n)]\n",
    "    K=col_normalize(K)\n",
    "    K[-1,:]=gamma\n",
    "    K[:-1,:]*=1-gamma\n",
    "\n",
    "    return K\n",
    "K=set_matrix(n=n,gamma=gamma,kernel_scale=kernel_scale)\n",
    "K.shape,gamma"
   ]
  },
  {
   "cell_type": "code",
   "execution_count": 80,
   "id": "86ea5beb",
   "metadata": {},
   "outputs": [],
   "source": [
    "def iterate(K):\n",
    "    figure(figsize=[12,8])\n",
    "    V=zeros(n+2)\n",
    "    V[0:int(n/10)]=1; \n",
    "    V[-1]=0\n",
    "    X=set_X_values(V.shape[0],0,4)\n",
    "    for i in range(500):\n",
    "        Vold=array(V)\n",
    "        V[1:-1]=np.dot(V,K)\n",
    "        if i % 50 ==0 :\n",
    "            plot(X,V,label=str(i))\n",
    "            print('iter',i,'step=',linalg.norm(V-Vold)/n)\n",
    "    legend()\n",
    "    grid()\n",
    "    title(f'n={n}, kernel_scale={kernel_scale},gamma={gamma}');\n",
    "    return V"
   ]
  },
  {
   "cell_type": "code",
   "execution_count": 81,
   "id": "2f622818",
   "metadata": {
    "scrolled": false
   },
   "outputs": [
    {
     "name": "stdout",
     "output_type": "stream",
     "text": [
      "iter 0 step= 0.005493075300662271\n",
      "iter 50 step= 2.3065451310964913e-18\n",
      "iter 100 step= 2.1091910209480264e-34\n",
      "iter 150 step= 0.0\n",
      "iter 200 step= 0.0\n",
      "iter 250 step= 0.0\n",
      "iter 300 step= 0.0\n",
      "iter 350 step= 0.0\n",
      "iter 400 step= 0.0\n",
      "iter 450 step= 0.0\n"
     ]
    },
    {
     "data": {
      "image/png": "[encoded data removed]",
      "text/plain": [
       "<Figure size 864x576 with 1 Axes>"
      ]
     },
     "metadata": {
      "needs_background": "light"
     },
     "output_type": "display_data"
    }
   ],
   "source": [
    "V=iterate(K)"
   ]
  },
  {
   "cell_type": "code",
   "execution_count": 71,
   "id": "6756c56a",
   "metadata": {},
   "outputs": [
    {
     "data": {
      "text/plain": [
       "0.822621441394085"
      ]
     },
     "execution_count": 71,
     "metadata": {},
     "output_type": "execute_result"
    }
   ],
   "source": [
    "sum(V)*gamma"
   ]
  },
  {
   "cell_type": "code",
   "execution_count": 72,
   "id": "0cc321b1",
   "metadata": {
    "scrolled": false
   },
   "outputs": [
    {
     "name": "stdout",
     "output_type": "stream",
     "text": [
      "0.0009765625 0.1670429359537589\n",
      "0.001953125 0.09469247315751703\n",
      "0.00390625 0.0346660726517365\n",
      "0.0078125 0.007109885450142767\n"
     ]
    },
    {
     "data": {
      "text/plain": [
       "[<matplotlib.lines.Line2D at 0x12f57b310>]"
      ]
     },
     "execution_count": 72,
     "metadata": {},
     "output_type": "execute_result"
    },
    {
     "data": {
      "image/png": "[encoded data removed]",
      "text/plain": [
       "<Figure size 432x288 with 1 Axes>"
      ]
     },
     "metadata": {
      "needs_background": "light"
     },
     "output_type": "display_data"
    }
   ],
   "source": [
    "for i in arange(-10,0,1):\n",
    "    gamma=2.**i\n",
    "    K=set_matrix(n=n,gamma=gamma,kernel_scale=kernel_scale)\n",
    "    V=zeros(n+2)\n",
    "    V[0:int(n/10)]=1; \n",
    "    V[-1]=0\n",
    "    for i in range(1000):\n",
    "\n",
    "        V[1:-1]=np.dot(V,K)\n",
    "    small=V[int(0.8*n)]\n",
    "    print(gamma,small)\n",
    "    if small<1e-2:\n",
    "        break\n",
    "X=set_X_values(V.shape[0],0,4)\n",
    "plot(X,V,label=str(i))"
   ]
  },
  {
   "cell_type": "code",
   "execution_count": 73,
   "id": "40cf8a54",
   "metadata": {},
   "outputs": [
    {
     "data": {
      "text/plain": [
       "[<matplotlib.lines.Line2D at 0x12f5db610>]"
      ]
     },
     "execution_count": 73,
     "metadata": {},
     "output_type": "execute_result"
    },
    {
     "data": {
      "image/png": "[encoded data removed]",
      "text/plain": [
       "<Figure size 432x288 with 1 Axes>"
      ]
     },
     "metadata": {
      "needs_background": "light"
     },
     "output_type": "display_data"
    }
   ],
   "source": [
    "Vs=V/(sum(V)*gamma)\n",
    "plot(Vs)"
   ]
  },
  {
   "cell_type": "code",
   "execution_count": 74,
   "id": "4ae8adff",
   "metadata": {},
   "outputs": [
    {
     "data": {
      "text/plain": [
       "dict_keys([100, 10, 1000])"
      ]
     },
     "execution_count": 74,
     "metadata": {},
     "output_type": "execute_result"
    }
   ],
   "source": [
    "LV[n]=[X,Vs]\n",
    "\n",
    "LV.keys()"
   ]
  },
  {
   "cell_type": "code",
   "execution_count": 75,
   "id": "65fa7f68",
   "metadata": {},
   "outputs": [
    {
     "data": {
      "text/plain": [
       "<matplotlib.legend.Legend at 0x12f5b5580>"
      ]
     },
     "execution_count": 75,
     "metadata": {},
     "output_type": "execute_result"
    },
    {
     "data": {
      "image/png": "[encoded data removed]",
      "text/plain": [
       "<Figure size 432x288 with 1 Axes>"
      ]
     },
     "metadata": {
      "needs_background": "light"
     },
     "output_type": "display_data"
    }
   ],
   "source": [
    "for key in LV:\n",
    "    x,v=LV[key]\n",
    "    plot(x,v/v[3],label=str(key))\n",
    "legend()"
   ]
  },
  {
   "cell_type": "code",
   "execution_count": 275,
   "id": "9c24f2e0",
   "metadata": {},
   "outputs": [
    {
     "data": {
      "text/plain": [
       "0.006149229751054583"
      ]
     },
     "execution_count": 275,
     "metadata": {},
     "output_type": "execute_result"
    }
   ],
   "source": [
    "mean(v)"
   ]
  },
  {
   "cell_type": "code",
   "execution_count": null,
   "id": "562456a4",
   "metadata": {},
   "outputs": [],
   "source": []
  }
 ],
 "metadata": {
  "kernelspec": {
   "display_name": "Python 3 (ipykernel)",
   "language": "python",
   "name": "python3"
  },
  "language_info": {
   "codemirror_mode": {
    "name": "ipython",
    "version": 3
   },
   "file_extension": ".py",
   "mimetype": "text/x-python",
   "name": "python",
   "nbconvert_exporter": "python",
   "pygments_lexer": "ipython3",
   "version": "3.9.12"
  },
  "toc": {
   "base_numbering": 1,
   "nav_menu": {},
   "number_sections": true,
   "sideBar": true,
   "skip_h1_title": false,
   "title_cell": "Table of Contents",
   "title_sidebar": "Contents",
   "toc_cell": false,
   "toc_position": {},
   "toc_section_display": true,
   "toc_window_display": false
  }
 },
 "nbformat": 4,
 "nbformat_minor": 5
}
