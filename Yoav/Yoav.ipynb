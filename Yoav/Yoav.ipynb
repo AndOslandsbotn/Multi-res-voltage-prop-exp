{
 "cells": [
  {
   "cell_type": "code",
   "execution_count": 1,
   "id": "b512c6e9",
   "metadata": {},
   "outputs": [
    {
     "name": "stdout",
     "output_type": "stream",
     "text": [
      "%pylab is deprecated, use %matplotlib inline and import the required libraries.\n",
      "Populating the interactive namespace from numpy and matplotlib\n"
     ]
    }
   ],
   "source": [
    "%pylab inline"
   ]
  },
  {
   "cell_type": "code",
   "execution_count": 2,
   "id": "d03f78f2",
   "metadata": {},
   "outputs": [],
   "source": [
    "def row_normalize(K):\n",
    "    return (K.T/(sum(K,axis=1))).T\n"
   ]
  },
  {
   "cell_type": "code",
   "execution_count": 3,
   "id": "86ea5beb",
   "metadata": {},
   "outputs": [
    {
     "data": {
      "text/plain": [
       "(11,)"
      ]
     },
     "execution_count": 3,
     "metadata": {},
     "output_type": "execute_result"
    }
   ],
   "source": [
    "n=10\n",
    "X=arange(0,1+0.1/n,1/n)\n",
    "X.shape\n"
   ]
  },
  {
   "cell_type": "code",
   "execution_count": 4,
   "id": "04ec89c1",
   "metadata": {},
   "outputs": [],
   "source": [
    "from scipy.stats import norm\n",
    "x = np.linspace(norm.ppf(0.01),\n",
    "                norm.ppf(0.99), 2*n+1)\n",
    "kernel = norm(scale=0.3).pdf(x)\n",
    "#plot(x, rv.pdf(x), 'k-', lw=2, label='frozen pdf')"
   ]
  },
  {
   "cell_type": "code",
   "execution_count": 5,
   "id": "d5f98363",
   "metadata": {},
   "outputs": [
    {
     "data": {
      "text/plain": [
       "(21,)"
      ]
     },
     "execution_count": 5,
     "metadata": {},
     "output_type": "execute_result"
    }
   ],
   "source": [
    "kernel.shape"
   ]
  },
  {
   "cell_type": "code",
   "execution_count": 9,
   "id": "7d711359",
   "metadata": {},
   "outputs": [],
   "source": [
    "K=np.zeros([n+1,n+1])\n",
    "for i in range(n+1):\n",
    "    for j in range(n+1):\n",
    "        K[i,j]=kernel[int(i-j+n)]\n",
    "\n",
    "K=row_normalize(K)\n",
    "gamma=0.1\n",
    "K[:,-1]= gamma"
   ]
  },
  {
   "cell_type": "code",
   "execution_count": 10,
   "id": "9086bfcc",
   "metadata": {},
   "outputs": [],
   "source": [
    "K=row_normalize(K)"
   ]
  },
  {
   "cell_type": "code",
   "execution_count": 11,
   "id": "ccd3dd0a",
   "metadata": {},
   "outputs": [
    {
     "data": {
      "text/plain": [
       "<matplotlib.image.AxesImage at 0x12740d130>"
      ]
     },
     "execution_count": 11,
     "metadata": {},
     "output_type": "execute_result"
    },
    {
     "data": {
      "image/png": "[encoded data removed]",
      "text/plain": [
       "<Figure size 432x288 with 1 Axes>"
      ]
     },
     "metadata": {
      "needs_background": "light"
     },
     "output_type": "display_data"
    }
   ],
   "source": [
    "imshow(K)"
   ]
  },
  {
   "cell_type": "code",
   "execution_count": 62,
   "id": "4c3191dd",
   "metadata": {},
   "outputs": [],
   "source": [
    "V=zeros(n+2)"
   ]
  },
  {
   "cell_type": "code",
   "execution_count": null,
   "id": "3a2af0d4",
   "metadata": {},
   "outputs": [],
   "source": []
  }
 ],
 "metadata": {
  "kernelspec": {
   "display_name": "Python 3 (ipykernel)",
   "language": "python",
   "name": "python3"
  },
  "language_info": {
   "codemirror_mode": {
    "name": "ipython",
    "version": 3
   },
   "file_extension": ".py",
   "mimetype": "text/x-python",
   "name": "python",
   "nbconvert_exporter": "python",
   "pygments_lexer": "ipython3",
   "version": "3.9.12"
  },
  "toc": {
   "base_numbering": 1,
   "nav_menu": {},
   "number_sections": true,
   "sideBar": true,
   "skip_h1_title": false,
   "title_cell": "Table of Contents",
   "title_sidebar": "Contents",
   "toc_cell": false,
   "toc_position": {},
   "toc_section_display": true,
   "toc_window_display": false
  }
 },
 "nbformat": 4,
 "nbformat_minor": 5
}
