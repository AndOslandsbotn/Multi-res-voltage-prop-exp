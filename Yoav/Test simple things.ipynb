{
 "cells": [
  {
   "cell_type": "code",
   "execution_count": 2,
   "id": "2ae928ee",
   "metadata": {},
   "outputs": [
    {
     "name": "stdout",
     "output_type": "stream",
     "text": [
      "%pylab is deprecated, use %matplotlib inline and import the required libraries.\n",
      "Populating the interactive namespace from numpy and matplotlib\n"
     ]
    }
   ],
   "source": [
    "%pylab inline"
   ]
  },
  {
   "cell_type": "code",
   "execution_count": 14,
   "id": "19ee5433",
   "metadata": {},
   "outputs": [],
   "source": [
    "K=array([[1,2,3],[4,5,6]])\n",
    "v=array([1,0,0])"
   ]
  },
  {
   "cell_type": "code",
   "execution_count": 16,
   "id": "e554d15b",
   "metadata": {},
   "outputs": [
    {
     "data": {
      "text/plain": [
       "array([1, 4])"
      ]
     },
     "execution_count": 16,
     "metadata": {},
     "output_type": "execute_result"
    }
   ],
   "source": [
    "dot(K,v)"
   ]
  },
  {
   "cell_type": "code",
   "execution_count": 11,
   "id": "c224dd6e",
   "metadata": {},
   "outputs": [],
   "source": [
    "def row_normalize(K):\n",
    "    return (K.T/(sum(K,axis=1))).T"
   ]
  },
  {
   "cell_type": "code",
   "execution_count": 20,
   "id": "863e6a03",
   "metadata": {},
   "outputs": [],
   "source": [
    "def col_normalize(K):\n",
    "    return (K/(sum(K,axis=0)))"
   ]
  },
  {
   "cell_type": "code",
   "execution_count": 21,
   "id": "9594a616",
   "metadata": {},
   "outputs": [
    {
     "data": {
      "text/plain": [
       "array([[0.16666667, 0.33333333, 0.5       ],\n",
       "       [0.26666667, 0.33333333, 0.4       ]])"
      ]
     },
     "execution_count": 21,
     "metadata": {},
     "output_type": "execute_result"
    }
   ],
   "source": [
    "row_normalize(K)"
   ]
  },
  {
   "cell_type": "code",
   "execution_count": 22,
   "id": "c768ffda",
   "metadata": {},
   "outputs": [
    {
     "data": {
      "text/plain": [
       "array([[0.2       , 0.28571429, 0.33333333],\n",
       "       [0.8       , 0.71428571, 0.66666667]])"
      ]
     },
     "execution_count": 22,
     "metadata": {},
     "output_type": "execute_result"
    }
   ],
   "source": [
    "col_normalize(K)"
   ]
  },
  {
   "cell_type": "code",
   "execution_count": null,
   "id": "f1106f05",
   "metadata": {},
   "outputs": [],
   "source": []
  }
 ],
 "metadata": {
  "kernelspec": {
   "display_name": "Python 3 (ipykernel)",
   "language": "python",
   "name": "python3"
  },
  "language_info": {
   "codemirror_mode": {
    "name": "ipython",
    "version": 3
   },
   "file_extension": ".py",
   "mimetype": "text/x-python",
   "name": "python",
   "nbconvert_exporter": "python",
   "pygments_lexer": "ipython3",
   "version": "3.9.12"
  },
  "toc": {
   "base_numbering": 1,
   "nav_menu": {},
   "number_sections": true,
   "sideBar": true,
   "skip_h1_title": false,
   "title_cell": "Table of Contents",
   "title_sidebar": "Contents",
   "toc_cell": false,
   "toc_position": {},
   "toc_section_display": true,
   "toc_window_display": false
  }
 },
 "nbformat": 4,
 "nbformat_minor": 5
}
