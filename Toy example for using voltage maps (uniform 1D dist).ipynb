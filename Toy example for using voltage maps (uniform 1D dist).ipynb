{
 "cells": [
  {
   "cell_type": "code",
   "execution_count": 1,
   "id": "8fa790ee",
   "metadata": {},
   "outputs": [],
   "source": [
    "%matplotlib inline\n",
    "#%matplotlib notebook"
   ]
  },
  {
   "cell_type": "code",
   "execution_count": 2,
   "id": "e11bf1cc",
   "metadata": {},
   "outputs": [
    {
     "name": "stdout",
     "output_type": "stream",
     "text": [
      "DONE\n"
     ]
    }
   ],
   "source": [
    "import numpy as np\n",
    "import matplotlib.pyplot as plt\n",
    "print(\"DONE\")"
   ]
  },
  {
   "cell_type": "code",
   "execution_count": 3,
   "id": "2a1a51bd",
   "metadata": {},
   "outputs": [
    {
     "data": {
      "text/plain": [
       "[<matplotlib.lines.Line2D at 0x114b1ff10>]"
      ]
     },
     "execution_count": 3,
     "metadata": {},
     "output_type": "execute_result"
    },
    {
     "data": {
      "image/png": "[encoded data removed]",
      "text/plain": [
       "<Figure size 432x288 with 1 Axes>"
      ]
     },
     "metadata": {
      "needs_background": "light"
     },
     "output_type": "display_data"
    }
   ],
   "source": [
    "plt.plot([1,2,3,4],[1,0,1,0])"
   ]
  },
  {
   "cell_type": "code",
   "execution_count": 4,
   "id": "68367646",
   "metadata": {},
   "outputs": [
    {
     "name": "stdout",
     "output_type": "stream",
     "text": [
      "DONE\n"
     ]
    }
   ],
   "source": [
    "from main_classes.voltage_maps import VoltageMap\n",
    "from main_classes.epsilon_cover import build_epsilon_covers, estimate_densities\n",
    "from utilities.generate_toy_data import non_uniform_1d_experiment\n",
    "from definitions import CONFIG_VOLTAGE_MAPS_PATH\n",
    "from config.yaml_functions import yaml_loader\n",
    "print(\"DONE\")"
   ]
  },
  {
   "cell_type": "markdown",
   "id": "7be8fa4d",
   "metadata": {},
   "source": [
    "### Setup"
   ]
  },
  {
   "cell_type": "code",
   "execution_count": 5,
   "id": "73d867f5",
   "metadata": {},
   "outputs": [
    {
     "name": "stdout",
     "output_type": "stream",
     "text": [
      "DONE\n"
     ]
    }
   ],
   "source": [
    "lvl_of_interest = 9\n",
    "num_data_samples = 20000\n",
    "source_center = np.array([0.2]).reshape(-1, 1)\n",
    "config = yaml_loader(CONFIG_VOLTAGE_MAPS_PATH)\n",
    "print(\"DONE\")"
   ]
  },
  {
   "cell_type": "markdown",
   "id": "91c9d199",
   "metadata": {},
   "source": [
    "### Construct toy data"
   ]
  },
  {
   "cell_type": "code",
   "execution_count": 6,
   "id": "57dfef88",
   "metadata": {},
   "outputs": [
    {
     "name": "stdout",
     "output_type": "stream",
     "text": [
      "DONE\n"
     ]
    }
   ],
   "source": [
    "data = np.random.uniform(0, 1, num_data_samples)\n",
    "#data = np.linspace(0, 1, num_data_samples)\n",
    "data = data.reshape(-1, 1)\n",
    "\n",
    "source_center_index = 0\n",
    "data = np.concatenate((source_center, data))\n",
    "print(\"DONE\")"
   ]
  },
  {
   "cell_type": "markdown",
   "id": "745106ce",
   "metadata": {},
   "source": [
    "### Generate an epsilon cover"
   ]
  },
  {
   "cell_type": "code",
   "execution_count": 7,
   "id": "c2f5bffd",
   "metadata": {},
   "outputs": [
    {
     "name": "stdout",
     "output_type": "stream",
     "text": [
      "number of processed points = 0\n",
      "number of processed points = 10000\n",
      "number of processed points = 20000\n"
     ]
    }
   ],
   "source": [
    "epsilon_cover = build_epsilon_covers(data)\n",
    "epsilon_cover_lvl = epsilon_cover[lvl_of_interest]"
   ]
  },
  {
   "cell_type": "code",
   "execution_count": 8,
   "id": "3962be5e",
   "metadata": {},
   "outputs": [
    {
     "name": "stdout",
     "output_type": "stream",
     "text": [
      "DONE\n"
     ]
    }
   ],
   "source": [
    "epsilon_cover_centers = epsilon_cover_lvl['centers']\n",
    "densities = estimate_densities(epsilon_cover_centers, data)\n",
    "epsilon_cover_lvl['densities'] = densities\n",
    "print(\"DONE\")"
   ]
  },
  {
   "cell_type": "code",
   "execution_count": 9,
   "id": "1279c70d",
   "metadata": {},
   "outputs": [
    {
     "name": "stdout",
     "output_type": "stream",
     "text": [
      "DONE\n"
     ]
    }
   ],
   "source": [
    "sort_indices = np.argsort(epsilon_cover_centers, axis=0).flatten()\n",
    "densities = epsilon_cover_lvl['densities']\n",
    "indices = epsilon_cover_lvl['indices']\n",
    "\n",
    "epsilon_cover_centers = epsilon_cover_centers[sort_indices]\n",
    "densities = densities[sort_indices]\n",
    "indices = indices[sort_indices]\n",
    "print(\"DONE\")"
   ]
  },
  {
   "cell_type": "markdown",
   "id": "3619893f",
   "metadata": {},
   "source": [
    "### Voltage maps"
   ]
  },
  {
   "cell_type": "markdown",
   "id": "40ca96ad",
   "metadata": {},
   "source": [
    "#### Using region source with density scaling"
   ]
  },
  {
   "cell_type": "code",
   "execution_count": 10,
   "id": "af8f999b",
   "metadata": {},
   "outputs": [
    {
     "data": {
      "text/plain": [
       "(416, 1)"
      ]
     },
     "execution_count": 10,
     "metadata": {},
     "output_type": "execute_result"
    }
   ],
   "source": [
    "epsilon_cover_lvl['centers'].shape"
   ]
  },
  {
   "cell_type": "code",
   "execution_count": 11,
   "id": "40211c9c",
   "metadata": {},
   "outputs": [
    {
     "name": "stderr",
     "output_type": "stream",
     "text": [
      "propagating labels:   4%|█▌                                     | 39/1000 [00:00<00:00, 2470.07it/s]"
     ]
    },
    {
     "name": "stdout",
     "output_type": "stream",
     "text": [
      "Done\n"
     ]
    },
    {
     "name": "stderr",
     "output_type": "stream",
     "text": [
      "\n"
     ]
    }
   ],
   "source": [
    "voltage_map = VoltageMap(config, epsilon_cover_lvl, source_center_index, weight_to_ground=1.e-1, is_source_region=True)\n",
    "voltage_map.trimmer()\n",
    "voltage_map.construct_transition_matrix()\n",
    "voltage_map.propagate_voltage()\n",
    "print(\"Done\")"
   ]
  },
  {
   "cell_type": "code",
   "execution_count": 12,
   "id": "8de4da1f",
   "metadata": {},
   "outputs": [
    {
     "data": {
      "text/plain": [
       "(416,)"
      ]
     },
     "execution_count": 12,
     "metadata": {},
     "output_type": "execute_result"
    }
   ],
   "source": [
    "voltage_region_source = voltage_map.get_voltage()\n",
    "voltage_region_source = voltage_region_source[sort_indices]\n",
    "voltage_region_source.shape"
   ]
  },
  {
   "cell_type": "code",
   "execution_count": 13,
   "id": "e0204b77",
   "metadata": {},
   "outputs": [
    {
     "data": {
      "image/png": "[encoded data removed]",
      "text/plain": [
       "<Figure size 324x216 with 1 Axes>"
      ]
     },
     "metadata": {
      "needs_background": "light"
     },
     "output_type": "display_data"
    }
   ],
   "source": [
    "plt.figure()\n",
    "plt.plot(data[indices], voltage_region_source);"
   ]
  },
  {
   "cell_type": "markdown",
   "id": "e9c65ece",
   "metadata": {},
   "source": [
    "#### Using point source with density scaling"
   ]
  },
  {
   "cell_type": "code",
   "execution_count": null,
   "id": "37476615",
   "metadata": {},
   "outputs": [],
   "source": []
  },
  {
   "cell_type": "code",
   "execution_count": 24,
   "id": "860f293c",
   "metadata": {},
   "outputs": [
    {
     "name": "stderr",
     "output_type": "stream",
     "text": [
      "propagating labels:   0%|                                        | 3/1000 [00:00<00:00, 2988.11it/s]"
     ]
    },
    {
     "name": "stdout",
     "output_type": "stream",
     "text": [
      "Done\n"
     ]
    },
    {
     "name": "stderr",
     "output_type": "stream",
     "text": [
      "\n"
     ]
    }
   ],
   "source": [
    "voltage_map = VoltageMap(config, epsilon_cover_lvl, source_center_index, weight_to_ground=0.5, is_source_region=False)\n",
    "voltage_map.trimmer()\n",
    "voltage_map.construct_transition_matrix()\n",
    "voltage_map.propagate_voltage()\n",
    "print(\"Done\")"
   ]
  },
  {
   "cell_type": "code",
   "execution_count": 25,
   "id": "6962bbab",
   "metadata": {},
   "outputs": [
    {
     "name": "stdout",
     "output_type": "stream",
     "text": [
      "DONE\n"
     ]
    }
   ],
   "source": [
    "voltage_point_source = voltage_map.get_voltage()\n",
    "voltage_point_source = voltage_point_source[sort_indices]\n",
    "print(\"DONE\")"
   ]
  },
  {
   "cell_type": "code",
   "execution_count": 26,
   "id": "e2ad079f",
   "metadata": {},
   "outputs": [
    {
     "name": "stdout",
     "output_type": "stream",
     "text": [
      "DONE\n"
     ]
    },
    {
     "data": {
      "image/png": "[encoded data removed]",
      "text/plain": [
       "<Figure size 432x288 with 1 Axes>"
      ]
     },
     "metadata": {
      "needs_background": "light"
     },
     "output_type": "display_data"
    }
   ],
   "source": [
    "plt.figure()\n",
    "plt.plot(data[indices], voltage_point_source)\n",
    "plt.show()\n",
    "plt.grid()\n",
    "print(\"DONE\")"
   ]
  },
  {
   "cell_type": "markdown",
   "id": "fd85ca6b",
   "metadata": {},
   "source": [
    "### Visualize"
   ]
  },
  {
   "cell_type": "code",
   "execution_count": 17,
   "id": "b891c4a5",
   "metadata": {},
   "outputs": [
    {
     "name": "stdout",
     "output_type": "stream",
     "text": [
      "DONE\n"
     ]
    },
    {
     "data": {
      "image/png": "[encoded data removed]",
      "text/plain": [
       "<Figure size 432x288 with 1 Axes>"
      ]
     },
     "metadata": {
      "needs_background": "light"
     },
     "output_type": "display_data"
    }
   ],
   "source": [
    "plt.figure()\n",
    "plt.plot(data[indices], voltage_point_source, label='Source region with density scaling')\n",
    "plt.plot(data[indices], voltage_region_source, label='Point region with density scaling')\n",
    "plt.yscale('log')\n",
    "plt.legend()\n",
    "plt.show()\n",
    "print(\"DONE\")"
   ]
  },
  {
   "cell_type": "code",
   "execution_count": 18,
   "id": "773eb53c",
   "metadata": {},
   "outputs": [],
   "source": [
    "### To get the same order of magnitude on the two plots, we multiply with a suitable factor\n",
    "factor = max(voltage_region_source)/max(voltage_point_source)\n",
    "voltage_point_source_scaled  = voltage_point_source*factor"
   ]
  },
  {
   "cell_type": "code",
   "execution_count": 19,
   "id": "c1ae30ae",
   "metadata": {},
   "outputs": [
    {
     "data": {
      "text/plain": [
       "2372.221104325623"
      ]
     },
     "execution_count": 19,
     "metadata": {},
     "output_type": "execute_result"
    }
   ],
   "source": [
    "factor"
   ]
  },
  {
   "cell_type": "code",
   "execution_count": 20,
   "id": "b042b173",
   "metadata": {},
   "outputs": [
    {
     "name": "stdout",
     "output_type": "stream",
     "text": [
      "DONE\n"
     ]
    },
    {
     "data": {
      "image/png": "[encoded data removed]",
      "text/plain": [
       "<Figure size 432x288 with 1 Axes>"
      ]
     },
     "metadata": {
      "needs_background": "light"
     },
     "output_type": "display_data"
    }
   ],
   "source": [
    "plt.figure()\n",
    "plt.plot(data[indices], voltage_region_source, label='Source region with density scaling')\n",
    "plt.plot(data[indices], voltage_point_source_scaled, label='(Point region with density scaling) x factor')\n",
    "plt.legend()\n",
    "plt.show()\n",
    "print(\"DONE\")"
   ]
  },
  {
   "cell_type": "code",
   "execution_count": null,
   "id": "e1cb29b4",
   "metadata": {},
   "outputs": [],
   "source": []
  },
  {
   "cell_type": "code",
   "execution_count": null,
   "id": "edeb743d",
   "metadata": {},
   "outputs": [],
   "source": []
  },
  {
   "cell_type": "code",
   "execution_count": null,
   "id": "9a6de3ce",
   "metadata": {},
   "outputs": [],
   "source": []
  }
 ],
 "metadata": {
  "kernelspec": {
   "display_name": "Python 3 (ipykernel)",
   "language": "python",
   "name": "python3"
  },
  "language_info": {
   "codemirror_mode": {
    "name": "ipython",
    "version": 3
   },
   "file_extension": ".py",
   "mimetype": "text/x-python",
   "name": "python",
   "nbconvert_exporter": "python",
   "pygments_lexer": "ipython3",
   "version": "3.9.12"
  },
  "toc": {
   "base_numbering": 1,
   "nav_menu": {},
   "number_sections": true,
   "sideBar": true,
   "skip_h1_title": false,
   "title_cell": "Table of Contents",
   "title_sidebar": "Contents",
   "toc_cell": false,
   "toc_position": {},
   "toc_section_display": true,
   "toc_window_display": false
  }
 },
 "nbformat": 4,
 "nbformat_minor": 5
}
